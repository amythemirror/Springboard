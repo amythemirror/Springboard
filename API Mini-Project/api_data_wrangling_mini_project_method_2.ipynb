{
  "nbformat": 4,
  "nbformat_minor": 0,
  "metadata": {
    "kernelspec": {
      "display_name": "Python 3",
      "language": "python",
      "name": "python3"
    },
    "language_info": {
      "codemirror_mode": {
        "name": "ipython",
        "version": 3
      },
      "file_extension": ".py",
      "mimetype": "text/x-python",
      "name": "python",
      "nbconvert_exporter": "python",
      "pygments_lexer": "ipython3",
      "version": "3.7.6"
    },
    "colab": {
      "name": "api_data_wrangling_mini_project_method_2.ipynb",
      "provenance": [],
      "include_colab_link": true
    }
  },
  "cells": [
    {
      "cell_type": "markdown",
      "metadata": {
        "id": "view-in-github",
        "colab_type": "text"
      },
      "source": [
        "<a href=\"https://colab.research.google.com/github/amythemirror/Springboard/blob/master/API%20Mini-Project/api_data_wrangling_mini_project_method_2.ipynb\" target=\"_parent\"><img src=\"https://colab.research.google.com/assets/colab-badge.svg\" alt=\"Open In Colab\"/></a>"
      ]
    },
    {
      "cell_type": "markdown",
      "metadata": {
        "id": "iB1A6_infQIu",
        "colab_type": "text"
      },
      "source": [
        "This exercise will require you to pull some data from the Qunadl API. Qaundl is currently the most widely used aggregator of financial market data."
      ]
    },
    {
      "cell_type": "markdown",
      "metadata": {
        "id": "XC-Ph_f7fQIu",
        "colab_type": "text"
      },
      "source": [
        "As a first step, you will need to register a free account on the http://www.quandl.com website."
      ]
    },
    {
      "cell_type": "markdown",
      "metadata": {
        "id": "wRIbneVMfQIv",
        "colab_type": "text"
      },
      "source": [
        "After you register, you will be provided with a unique API key, that you should store:"
      ]
    },
    {
      "cell_type": "code",
      "metadata": {
        "id": "jycv2p7_fQIw",
        "colab_type": "code",
        "colab": {}
      },
      "source": [
        "# Store the API key as a string - according to PEP8, constants are always named in all upper case\n",
        "API_KEY = ''"
      ],
      "execution_count": 0,
      "outputs": []
    },
    {
      "cell_type": "markdown",
      "metadata": {
        "id": "Ao3810xjfQIz",
        "colab_type": "text"
      },
      "source": [
        "Qaundl has a large number of data sources, but, unfortunately, most of them require a Premium subscription. Still, there are also a good number of free datasets."
      ]
    },
    {
      "cell_type": "markdown",
      "metadata": {
        "id": "5rS6unlGfQIz",
        "colab_type": "text"
      },
      "source": [
        "For this mini project, we will focus on equities data from the Frankfurt Stock Exhange (FSE), which is available for free. We'll try and analyze the stock prices of a company called Carl Zeiss Meditec, which manufactures tools for eye examinations, as well as medical lasers for laser eye surgery: https://www.zeiss.com/meditec/int/home.html. The company is listed under the stock ticker AFX_X."
      ]
    },
    {
      "cell_type": "markdown",
      "metadata": {
        "id": "Mmzj73WefQI0",
        "colab_type": "text"
      },
      "source": [
        "You can find the detailed Quandl API instructions here: https://docs.quandl.com/docs/time-series"
      ]
    },
    {
      "cell_type": "markdown",
      "metadata": {
        "id": "UMAuXFKffQI0",
        "colab_type": "text"
      },
      "source": [
        "While there is a dedicated Python package for connecting to the Quandl API, we would prefer that you use the *requests* package, which can be easily downloaded using *pip* or *conda*. You can find the documentation for the package here: http://docs.python-requests.org/en/master/ "
      ]
    },
    {
      "cell_type": "markdown",
      "metadata": {
        "id": "sotuOYiEfQI1",
        "colab_type": "text"
      },
      "source": [
        "Finally, apart from the *requests* package, you are encouraged to not use any third party Python packages, such as *pandas*, and instead focus on what's available in the Python Standard Library (the *collections* module might come in handy: https://pymotw.com/3/collections/ ).\n",
        "Also, since you won't have access to DataFrames, you are encouraged to us Python's native data structures - preferably dictionaries, though some questions can also be answered using lists.\n",
        "You can read more on these data structures here: https://docs.python.org/3/tutorial/datastructures.html"
      ]
    },
    {
      "cell_type": "markdown",
      "metadata": {
        "id": "477vHxCBfQI1",
        "colab_type": "text"
      },
      "source": [
        "Keep in mind that the JSON responses you will be getting from the API map almost one-to-one to Python's dictionaries. Unfortunately, they can be very nested, so make sure you read up on indexing dictionaries in the documentation provided above."
      ]
    },
    {
      "cell_type": "code",
      "metadata": {
        "id": "-A4JQS8GfQI2",
        "colab_type": "code",
        "colab": {}
      },
      "source": [
        "# First, import the relevant modules\n",
        "import requests\n",
        "import json\n",
        "import operator\n",
        "import statistics"
      ],
      "execution_count": 0,
      "outputs": []
    },
    {
      "cell_type": "code",
      "metadata": {
        "id": "qQfhFEACfQI5",
        "colab_type": "code",
        "colab": {}
      },
      "source": [
        "# Now, call the Quandl API and pull out a small sample of the data (only one day) to get a glimpse\n",
        "# into the JSON structure that will be returned\n",
        "url = 'https://www.quandl.com/api/v3/datasets/FSE/AFX_X'\n",
        "params = dict(start_date='2020-04-28', end_date='2020-04-28', api_key=API_KEY)\n",
        "res = requests.get(url, params=params)"
      ],
      "execution_count": 0,
      "outputs": []
    },
    {
      "cell_type": "code",
      "metadata": {
        "id": "BDpMFlW6fQI7",
        "colab_type": "code",
        "outputId": "cb93b305-f925-4104-8648-b8bf5f7261ac",
        "colab": {
          "base_uri": "https://localhost:8080/",
          "height": 55
        }
      },
      "source": [
        "# Inspect the JSON structure of the object you created, and take note of how nested it is,\n",
        "# as well as the overall structure\n",
        "print(res.json())"
      ],
      "execution_count": 4,
      "outputs": [
        {
          "output_type": "stream",
          "text": [
            "{'dataset': {'id': 10095370, 'dataset_code': 'AFX_X', 'database_code': 'FSE', 'name': 'Carl Zeiss Meditec (AFX_X)', 'description': 'Stock Prices for Carl Zeiss Meditec (2020-04-24) from the Frankfurt Stock Exchange.<br><br>Trading System: Xetra<br><br>ISIN: DE0005313704', 'refreshed_at': '2020-05-08T22:16:12.693Z', 'newest_available_date': '2020-05-08', 'oldest_available_date': '2000-06-07', 'column_names': ['Date', 'Open', 'High', 'Low', 'Close', 'Change', 'Traded Volume', 'Turnover', 'Last Price of the Day', 'Daily Traded Units', 'Daily Turnover'], 'frequency': 'daily', 'type': 'Time Series', 'premium': False, 'limit': None, 'transform': None, 'column_index': None, 'start_date': '2020-04-28', 'end_date': '2020-04-28', 'data': [['2020-04-28', 92.0, 92.2, 89.15, 89.65, None, 163949.0, 14804941.85, None, None, None]], 'collapse': None, 'order': None, 'database_id': 6129}}\n"
          ],
          "name": "stdout"
        }
      ]
    },
    {
      "cell_type": "markdown",
      "metadata": {
        "id": "-balDv9CfQI-",
        "colab_type": "text"
      },
      "source": [
        "These are your tasks for this mini project:\n",
        "\n",
        "1. Collect data from the Franfurt Stock Exchange, for the ticker AFX_X, for the whole year 2017 (keep in mind that the date format is YYYY-MM-DD).\n",
        "2. Convert the returned JSON object into a Python dictionary.\n",
        "3. Calculate what the highest and lowest opening prices were for the stock in this period.\n",
        "4. What was the largest change in any one day (based on High and Low price)?\n",
        "5. What was the largest change between any two days (based on Closing Price)?\n",
        "6. What was the average daily trading volume during this year?\n",
        "7. (Optional) What was the median trading volume during this year. (Note: you may need to implement your own function for calculating the median.)"
      ]
    },
    {
      "cell_type": "markdown",
      "metadata": {
        "id": "LfRqNRbgfQI-",
        "colab_type": "text"
      },
      "source": [
        "#### 1. Collect data from the Franfurt Stock Exchange, for the ticker AFX_X, for the whole year 2017"
      ]
    },
    {
      "cell_type": "code",
      "metadata": {
        "id": "UUAy9JkvfQI_",
        "colab_type": "code",
        "outputId": "3255088b-5dd5-40c3-9cdc-3455df3bf483",
        "colab": {
          "base_uri": "https://localhost:8080/",
          "height": 35
        }
      },
      "source": [
        "#collect data for the whole year 2017\n",
        "url = 'https://www.quandl.com/api/v3/datasets/FSE/AFX_X'\n",
        "params = dict(start_date='2017-01-01', end_date='2017-12-31', api_key=API_KEY)\n",
        "res = requests.get(url, params=params)\n",
        "print(res.status_code)"
      ],
      "execution_count": 5,
      "outputs": [
        {
          "output_type": "stream",
          "text": [
            "200\n"
          ],
          "name": "stdout"
        }
      ]
    },
    {
      "cell_type": "markdown",
      "metadata": {
        "id": "tuoSr8L_fQJB",
        "colab_type": "text"
      },
      "source": [
        "#### 2. Convert the returned JSON object into a Python dictionary."
      ]
    },
    {
      "cell_type": "code",
      "metadata": {
        "id": "V-CSOonJhUSR",
        "colab_type": "code",
        "outputId": "0d5c433a-cf25-49d8-ac1a-8e919edfff0a",
        "colab": {
          "base_uri": "https://localhost:8080/",
          "height": 208
        }
      },
      "source": [
        "#convert response into a json object\n",
        "json_data = json.loads(res.text)\n",
        "\n",
        "#convert json object into a nested dictionary\n",
        "data = {}\n",
        "for idx, daily_data in enumerate(json_data['dataset']['data']):\n",
        "  data[idx] = {}\n",
        "  innerkeys = json_data['dataset']['column_names']\n",
        "  for i in range(len(innerkeys)):\n",
        "    data[idx][innerkeys[i]] = daily_data[i]\n",
        "\n",
        "#check the first key-value pair\n",
        "data[0]"
      ],
      "execution_count": 6,
      "outputs": [
        {
          "output_type": "execute_result",
          "data": {
            "text/plain": [
              "{'Change': None,\n",
              " 'Close': 51.76,\n",
              " 'Daily Traded Units': None,\n",
              " 'Daily Turnover': None,\n",
              " 'Date': '2017-12-29',\n",
              " 'High': 51.94,\n",
              " 'Last Price of the Day': None,\n",
              " 'Low': 51.45,\n",
              " 'Open': 51.76,\n",
              " 'Traded Volume': 34640.0,\n",
              " 'Turnover': 1792304.0}"
            ]
          },
          "metadata": {
            "tags": []
          },
          "execution_count": 6
        }
      ]
    },
    {
      "cell_type": "markdown",
      "metadata": {
        "id": "YKDbRhQ5fQJE",
        "colab_type": "text"
      },
      "source": [
        "#### 3. Calculate what the highest and lowest opening prices were for the stock in this period."
      ]
    },
    {
      "cell_type": "code",
      "metadata": {
        "id": "fi1PKw20aaG_",
        "colab_type": "code",
        "outputId": "a1aaa533-4632-4dc7-ffbe-d673c883ed88",
        "colab": {
          "base_uri": "https://localhost:8080/",
          "height": 52
        }
      },
      "source": [
        "#extract opening prices into a list and skip None values\n",
        "open_price = [v['Open'] for i, v in data.items() if v['Open'] != None]\n",
        "\n",
        "#get max and min values of the list\n",
        "max_open = max(open_price)\n",
        "min_open = min(open_price)\n",
        "\n",
        "print('The highest opening price is €%s' % max_open)\n",
        "print('The lowest opening price is €%s' % min_open)"
      ],
      "execution_count": 7,
      "outputs": [
        {
          "output_type": "stream",
          "text": [
            "The highest opening price is €53.11\n",
            "The lowest opening price is €34.0\n"
          ],
          "name": "stdout"
        }
      ]
    },
    {
      "cell_type": "markdown",
      "metadata": {
        "id": "wYwnVh2GfQJJ",
        "colab_type": "text"
      },
      "source": [
        "#### 4. What was the largest change in any one day (based on High and Low price)?"
      ]
    },
    {
      "cell_type": "code",
      "metadata": {
        "id": "eM4l6fsbfQJM",
        "colab_type": "code",
        "colab": {}
      },
      "source": [
        "#extract high and low prices into lists\n",
        "high_price = [v['High'] for i, v in data.items()]\n",
        "low_price = [v['Low'] for i, v in data.items()]"
      ],
      "execution_count": 0,
      "outputs": []
    },
    {
      "cell_type": "code",
      "metadata": {
        "id": "BZnEWqtQfQJP",
        "colab_type": "code",
        "outputId": "ae77ea7e-4770-48d5-94ca-3147e3c0d046",
        "colab": {
          "base_uri": "https://localhost:8080/",
          "height": 35
        }
      },
      "source": [
        "#calculate daily change for 2017 and get the max\n",
        "change = list(map(operator.sub, high_price, low_price))\n",
        "max_change = round(max(change), 2)\n",
        "print('The largest change in any one day is €%s' % max_change)"
      ],
      "execution_count": 9,
      "outputs": [
        {
          "output_type": "stream",
          "text": [
            "The largest change in any one day is €2.81\n"
          ],
          "name": "stdout"
        }
      ]
    },
    {
      "cell_type": "markdown",
      "metadata": {
        "id": "rx6jF9-qfQJR",
        "colab_type": "text"
      },
      "source": [
        "#### 5. What was the largest change between any two days (based on Closing Price)?"
      ]
    },
    {
      "cell_type": "code",
      "metadata": {
        "id": "x3606fLCfQJU",
        "colab_type": "code",
        "colab": {}
      },
      "source": [
        "#extract closing prices into lists\n",
        "close_price = [v['Close'] for i, v in data.items()]"
      ],
      "execution_count": 0,
      "outputs": []
    },
    {
      "cell_type": "code",
      "metadata": {
        "id": "W37vMwk_fQJW",
        "colab_type": "code",
        "outputId": "f035f0c2-43c2-4e6f-ac6f-5cf5f7987be8",
        "colab": {
          "base_uri": "https://localhost:8080/",
          "height": 35
        }
      },
      "source": [
        "#calculate the largest change between any two days, and get the max\n",
        "change = [round(abs(close_price[n] - close_price[n-1]), 2) for n in range(1, len(close_price))]\n",
        "\n",
        "print('The largest change between any two days is €%s' % max(change))"
      ],
      "execution_count": 11,
      "outputs": [
        {
          "output_type": "stream",
          "text": [
            "The largest change between any two days is €2.56\n"
          ],
          "name": "stdout"
        }
      ]
    },
    {
      "cell_type": "markdown",
      "metadata": {
        "id": "Iozs81difQJY",
        "colab_type": "text"
      },
      "source": [
        "#### 6. What was the average daily trading volume during this year?"
      ]
    },
    {
      "cell_type": "code",
      "metadata": {
        "id": "7SSAfYQ2fQJb",
        "colab_type": "code",
        "colab": {}
      },
      "source": [
        "#extract trading volumes into lists\n",
        "trading_volume = [v['Traded Volume'] for i, v in data.items()]"
      ],
      "execution_count": 0,
      "outputs": []
    },
    {
      "cell_type": "code",
      "metadata": {
        "id": "iZ2ysanNfQJd",
        "colab_type": "code",
        "outputId": "6084634a-ab0c-4875-e2bb-b07246898582",
        "colab": {
          "base_uri": "https://localhost:8080/",
          "height": 35
        }
      },
      "source": [
        "#caculate the average daily trading volume\n",
        "average = statistics.mean(trading_volume)\n",
        "\n",
        "print('The average daily trading volume is %s' % average)"
      ],
      "execution_count": 13,
      "outputs": [
        {
          "output_type": "stream",
          "text": [
            "The average daily trading volume is 89124.33725490196\n"
          ],
          "name": "stdout"
        }
      ]
    },
    {
      "cell_type": "markdown",
      "metadata": {
        "id": "IZ8hjk3FfQJf",
        "colab_type": "text"
      },
      "source": [
        "#### 7. (Optional) What was the median trading volume during this year. (Note: you may need to implement your own function for calculating the median.)"
      ]
    },
    {
      "cell_type": "code",
      "metadata": {
        "id": "IpjQsirSfQJf",
        "colab_type": "code",
        "outputId": "65a3c261-997a-4c32-ecb2-9b5d390e02d1",
        "colab": {
          "base_uri": "https://localhost:8080/",
          "height": 35
        }
      },
      "source": [
        "#method 1: define a function to find median\n",
        "def median(numbers):\n",
        "    if len(numbers) % 2 == 0:\n",
        "        n = len(numbers)/2\n",
        "        return (sorted(numbers)[n-1] + sorted(numbers)[n])/2\n",
        "    else:\n",
        "        return sorted(numbers)[len(numbers) // 2]\n",
        "\n",
        "print('The median trading volume is %s' % median(trading_volume))"
      ],
      "execution_count": 14,
      "outputs": [
        {
          "output_type": "stream",
          "text": [
            "The median trading volume is 76286.0\n"
          ],
          "name": "stdout"
        }
      ]
    },
    {
      "cell_type": "code",
      "metadata": {
        "id": "9aLznYmgfQJh",
        "colab_type": "code",
        "outputId": "af2af3bd-46f0-4010-8e54-dfdd24ebe700",
        "colab": {
          "base_uri": "https://localhost:8080/",
          "height": 35
        }
      },
      "source": [
        "#method 2: using statistics module\n",
        "median = statistics.median(trading_volume)\n",
        "\n",
        "print('The median trading volume is %s' % median)"
      ],
      "execution_count": 15,
      "outputs": [
        {
          "output_type": "stream",
          "text": [
            "The median trading volume is 76286.0\n"
          ],
          "name": "stdout"
        }
      ]
    }
  ]
}