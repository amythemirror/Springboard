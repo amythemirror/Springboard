{
  "nbformat": 4,
  "nbformat_minor": 0,
  "metadata": {
    "kernelspec": {
      "display_name": "Python 3",
      "language": "python",
      "name": "python3"
    },
    "language_info": {
      "codemirror_mode": {
        "name": "ipython",
        "version": 3
      },
      "file_extension": ".py",
      "mimetype": "text/x-python",
      "name": "python",
      "nbconvert_exporter": "python",
      "pygments_lexer": "ipython3",
      "version": "3.7.6"
    },
    "colab": {
      "name": "api_data_wrangling_mini_project_method_3.ipynb",
      "provenance": [],
      "include_colab_link": true
    }
  },
  "cells": [
    {
      "cell_type": "markdown",
      "metadata": {
        "id": "view-in-github",
        "colab_type": "text"
      },
      "source": [
        "<a href=\"https://colab.research.google.com/github/amythemirror/Springboard/blob/master/API%20Mini_Project/api_data_wrangling_mini_project_method_3.ipynb\" target=\"_parent\"><img src=\"https://colab.research.google.com/assets/colab-badge.svg\" alt=\"Open In Colab\"/></a>"
      ]
    },
    {
      "cell_type": "markdown",
      "metadata": {
        "id": "4yjqEv9ruHtW",
        "colab_type": "text"
      },
      "source": [
        "This exercise will require you to pull some data from the Qunadl API. Qaundl is currently the most widely used aggregator of financial market data."
      ]
    },
    {
      "cell_type": "markdown",
      "metadata": {
        "id": "A_1pNfehuHtX",
        "colab_type": "text"
      },
      "source": [
        "As a first step, you will need to register a free account on the http://www.quandl.com website."
      ]
    },
    {
      "cell_type": "markdown",
      "metadata": {
        "id": "aeEb9eNMuHtX",
        "colab_type": "text"
      },
      "source": [
        "After you register, you will be provided with a unique API key, that you should store:"
      ]
    },
    {
      "cell_type": "code",
      "metadata": {
        "id": "hFk1ejSLuHtY",
        "colab_type": "code",
        "colab": {}
      },
      "source": [
        "# Store the API key as a string - according to PEP8, constants are always named in all upper case\n",
        "API_KEY = ''"
      ],
      "execution_count": 0,
      "outputs": []
    },
    {
      "cell_type": "markdown",
      "metadata": {
        "id": "1cSozKfcuHta",
        "colab_type": "text"
      },
      "source": [
        "Qaundl has a large number of data sources, but, unfortunately, most of them require a Premium subscription. Still, there are also a good number of free datasets."
      ]
    },
    {
      "cell_type": "markdown",
      "metadata": {
        "id": "yccs3H8VuHtb",
        "colab_type": "text"
      },
      "source": [
        "For this mini project, we will focus on equities data from the Frankfurt Stock Exhange (FSE), which is available for free. We'll try and analyze the stock prices of a company called Carl Zeiss Meditec, which manufactures tools for eye examinations, as well as medical lasers for laser eye surgery: https://www.zeiss.com/meditec/int/home.html. The company is listed under the stock ticker AFX_X."
      ]
    },
    {
      "cell_type": "markdown",
      "metadata": {
        "id": "RLOJKLd6uHtb",
        "colab_type": "text"
      },
      "source": [
        "You can find the detailed Quandl API instructions here: https://docs.quandl.com/docs/time-series"
      ]
    },
    {
      "cell_type": "markdown",
      "metadata": {
        "id": "VtO7zzusuHtc",
        "colab_type": "text"
      },
      "source": [
        "While there is a dedicated Python package for connecting to the Quandl API, we would prefer that you use the *requests* package, which can be easily downloaded using *pip* or *conda*. You can find the documentation for the package here: http://docs.python-requests.org/en/master/ "
      ]
    },
    {
      "cell_type": "markdown",
      "metadata": {
        "id": "B4vJ0QkPuHtc",
        "colab_type": "text"
      },
      "source": [
        "Finally, apart from the *requests* package, you are encouraged to not use any third party Python packages, such as *pandas*, and instead focus on what's available in the Python Standard Library (the *collections* module might come in handy: https://pymotw.com/3/collections/ ).\n",
        "Also, since you won't have access to DataFrames, you are encouraged to us Python's native data structures - preferably dictionaries, though some questions can also be answered using lists.\n",
        "You can read more on these data structures here: https://docs.python.org/3/tutorial/datastructures.html"
      ]
    },
    {
      "cell_type": "markdown",
      "metadata": {
        "id": "oQUsxj2yuHtd",
        "colab_type": "text"
      },
      "source": [
        "Keep in mind that the JSON responses you will be getting from the API map almost one-to-one to Python's dictionaries. Unfortunately, they can be very nested, so make sure you read up on indexing dictionaries in the documentation provided above."
      ]
    },
    {
      "cell_type": "code",
      "metadata": {
        "id": "H4OcRCLvuHtd",
        "colab_type": "code",
        "colab": {}
      },
      "source": [
        "# First, import the relevant modules\n",
        "import requests\n",
        "import json\n",
        "import operator\n",
        "import statistics"
      ],
      "execution_count": 0,
      "outputs": []
    },
    {
      "cell_type": "code",
      "metadata": {
        "id": "gsGX0gAeuHtg",
        "colab_type": "code",
        "colab": {}
      },
      "source": [
        "# Now, call the Quandl API and pull out a small sample of the data (only one day) to get a glimpse\n",
        "# into the JSON structure that will be returned\n",
        "url = 'https://www.quandl.com/api/v3/datasets/FSE/AFX_X'\n",
        "params = dict(start_date='2020-04-28', end_date='2020-04-28', api_key=API_KEY)\n",
        "res = requests.get(url, params=params)"
      ],
      "execution_count": 0,
      "outputs": []
    },
    {
      "cell_type": "code",
      "metadata": {
        "id": "jeV6Ll-xuHtj",
        "colab_type": "code",
        "colab": {
          "base_uri": "https://localhost:8080/",
          "height": 55
        },
        "outputId": "1d1f85ec-2c9f-4489-fd2b-6ee3a563328d"
      },
      "source": [
        "# Inspect the JSON structure of the object you created, and take note of how nested it is,\n",
        "# as well as the overall structure\n",
        "print(res.json())"
      ],
      "execution_count": 4,
      "outputs": [
        {
          "output_type": "stream",
          "text": [
            "{'dataset': {'id': 10095370, 'dataset_code': 'AFX_X', 'database_code': 'FSE', 'name': 'Carl Zeiss Meditec (AFX_X)', 'description': 'Stock Prices for Carl Zeiss Meditec (2020-04-24) from the Frankfurt Stock Exchange.<br><br>Trading System: Xetra<br><br>ISIN: DE0005313704', 'refreshed_at': '2020-05-08T22:16:12.693Z', 'newest_available_date': '2020-05-08', 'oldest_available_date': '2000-06-07', 'column_names': ['Date', 'Open', 'High', 'Low', 'Close', 'Change', 'Traded Volume', 'Turnover', 'Last Price of the Day', 'Daily Traded Units', 'Daily Turnover'], 'frequency': 'daily', 'type': 'Time Series', 'premium': False, 'limit': None, 'transform': None, 'column_index': None, 'start_date': '2020-04-28', 'end_date': '2020-04-28', 'data': [['2020-04-28', 92.0, 92.2, 89.15, 89.65, None, 163949.0, 14804941.85, None, None, None]], 'collapse': None, 'order': None, 'database_id': 6129}}\n"
          ],
          "name": "stdout"
        }
      ]
    },
    {
      "cell_type": "markdown",
      "metadata": {
        "id": "VemrVaK4uHtl",
        "colab_type": "text"
      },
      "source": [
        "These are your tasks for this mini project:\n",
        "\n",
        "1. Collect data from the Franfurt Stock Exchange, for the ticker AFX_X, for the whole year 2017 (keep in mind that the date format is YYYY-MM-DD).\n",
        "2. Convert the returned JSON object into a Python dictionary.\n",
        "3. Calculate what the highest and lowest opening prices were for the stock in this period.\n",
        "4. What was the largest change in any one day (based on High and Low price)?\n",
        "5. What was the largest change between any two days (based on Closing Price)?\n",
        "6. What was the average daily trading volume during this year?\n",
        "7. (Optional) What was the median trading volume during this year. (Note: you may need to implement your own function for calculating the median.)"
      ]
    },
    {
      "cell_type": "markdown",
      "metadata": {
        "id": "2EpgPQRruHtm",
        "colab_type": "text"
      },
      "source": [
        "#### 1. Collect data from the Franfurt Stock Exchange, for the ticker AFX_X, for the whole year 2017"
      ]
    },
    {
      "cell_type": "code",
      "metadata": {
        "id": "HexZ43qKuHtm",
        "colab_type": "code",
        "colab": {
          "base_uri": "https://localhost:8080/",
          "height": 35
        },
        "outputId": "9614b4b1-ea81-4f4e-cb6a-36dad83a6491"
      },
      "source": [
        "#collect data for the whole year 2017\n",
        "url = 'https://www.quandl.com/api/v3/datasets/FSE/AFX_X'\n",
        "params = dict(start_date='2017-01-01', end_date='2017-12-31', api_key=API_KEY)\n",
        "res = requests.get(url, params=params)\n",
        "print(res.status_code)"
      ],
      "execution_count": 5,
      "outputs": [
        {
          "output_type": "stream",
          "text": [
            "200\n"
          ],
          "name": "stdout"
        }
      ]
    },
    {
      "cell_type": "markdown",
      "metadata": {
        "id": "QpRC-aejuHtp",
        "colab_type": "text"
      },
      "source": [
        "#### 2. Convert the returned JSON object into a Python dictionary."
      ]
    },
    {
      "cell_type": "code",
      "metadata": {
        "id": "hoh6n-PAuHtq",
        "colab_type": "code",
        "colab": {
          "base_uri": "https://localhost:8080/",
          "height": 35
        },
        "outputId": "ec73627b-d50c-4f34-bc0a-e0c858f210f8"
      },
      "source": [
        "#convert response into a json object\n",
        "data = json.loads(res.text)\n",
        "type(data)"
      ],
      "execution_count": 7,
      "outputs": [
        {
          "output_type": "execute_result",
          "data": {
            "text/plain": [
              "dict"
            ]
          },
          "metadata": {
            "tags": []
          },
          "execution_count": 7
        }
      ]
    },
    {
      "cell_type": "markdown",
      "metadata": {
        "id": "K8qX21UQuHts",
        "colab_type": "text"
      },
      "source": [
        "#### 3. Calculate what the highest and lowest opening prices were for the stock in this period."
      ]
    },
    {
      "cell_type": "code",
      "metadata": {
        "id": "orhch1P9uHts",
        "colab_type": "code",
        "colab": {
          "base_uri": "https://localhost:8080/",
          "height": 35
        },
        "outputId": "f9f01973-e30f-4887-9f86-ac2315fd2fd0"
      },
      "source": [
        "#get the index for the opening price in the data\n",
        "print(data['dataset']['column_names'].index('Open'))"
      ],
      "execution_count": 9,
      "outputs": [
        {
          "output_type": "stream",
          "text": [
            "1\n"
          ],
          "name": "stdout"
        }
      ]
    },
    {
      "cell_type": "code",
      "metadata": {
        "id": "iAHzVLCzuHtv",
        "colab_type": "code",
        "colab": {
          "base_uri": "https://localhost:8080/",
          "height": 52
        },
        "outputId": "7a9da131-86e7-4d4a-e345-91b6dff31f08"
      },
      "source": [
        "#extract opening prices into a list and skip None values\n",
        "open_price = [sublist[1] for sublist in data['dataset']['data'] if sublist[1] != None]\n",
        "\n",
        "#get max and min values of the list\n",
        "max_open = max(open_price)\n",
        "min_open = min(open_price)\n",
        "\n",
        "print('The highest opening price is €%s' % max_open)\n",
        "print('The lowest opening price is €%s' % min_open)"
      ],
      "execution_count": 10,
      "outputs": [
        {
          "output_type": "stream",
          "text": [
            "The highest opening price is €53.11\n",
            "The lowest opening price is €34.0\n"
          ],
          "name": "stdout"
        }
      ]
    },
    {
      "cell_type": "markdown",
      "metadata": {
        "id": "ILkHCa7RuHtx",
        "colab_type": "text"
      },
      "source": [
        "#### 4. What was the largest change in any one day (based on High and Low price)?"
      ]
    },
    {
      "cell_type": "code",
      "metadata": {
        "id": "LBfoEBJYuHtx",
        "colab_type": "code",
        "colab": {
          "base_uri": "https://localhost:8080/",
          "height": 52
        },
        "outputId": "909dce12-b149-4d1e-cb8c-2f85d041150b"
      },
      "source": [
        "#get the indexes for the high and low prices in the data\n",
        "print(data['dataset']['column_names'].index('High'))\n",
        "print(data['dataset']['column_names'].index('Low'))"
      ],
      "execution_count": 11,
      "outputs": [
        {
          "output_type": "stream",
          "text": [
            "2\n",
            "3\n"
          ],
          "name": "stdout"
        }
      ]
    },
    {
      "cell_type": "code",
      "metadata": {
        "id": "spSMDSuEuHt0",
        "colab_type": "code",
        "colab": {}
      },
      "source": [
        "#extract high and low prices into lists\n",
        "high_price = [sublist[2] for sublist in data['dataset']['data']]\n",
        "low_price = [sublist[3] for sublist in data['dataset']['data']]"
      ],
      "execution_count": 0,
      "outputs": []
    },
    {
      "cell_type": "code",
      "metadata": {
        "id": "A0ykzoUFuHt3",
        "colab_type": "code",
        "colab": {
          "base_uri": "https://localhost:8080/",
          "height": 35
        },
        "outputId": "a3fbdcca-221a-49b8-a54c-19d9d3c0db83"
      },
      "source": [
        "#calculate daily change for 2017 and get the max\n",
        "change = list(map(operator.sub, high_price, low_price))\n",
        "max_change = round(max(change), 2)\n",
        "print('The largest change in any one day is €%s' % max_change)"
      ],
      "execution_count": 13,
      "outputs": [
        {
          "output_type": "stream",
          "text": [
            "The largest change in any one day is €2.81\n"
          ],
          "name": "stdout"
        }
      ]
    },
    {
      "cell_type": "markdown",
      "metadata": {
        "id": "C_8YOqmNuHt6",
        "colab_type": "text"
      },
      "source": [
        "#### 5. What was the largest change between any two days (based on Closing Price)?"
      ]
    },
    {
      "cell_type": "code",
      "metadata": {
        "id": "aNYualF0uHt6",
        "colab_type": "code",
        "colab": {
          "base_uri": "https://localhost:8080/",
          "height": 35
        },
        "outputId": "fa960758-0a9f-4e1a-b582-1f1b06b01771"
      },
      "source": [
        "#get the index for the closing price in the data\n",
        "print(data['dataset']['column_names'].index('Close'))"
      ],
      "execution_count": 14,
      "outputs": [
        {
          "output_type": "stream",
          "text": [
            "4\n"
          ],
          "name": "stdout"
        }
      ]
    },
    {
      "cell_type": "code",
      "metadata": {
        "id": "Mu6HM-uwuHt9",
        "colab_type": "code",
        "colab": {}
      },
      "source": [
        "#extract closing prices into lists\n",
        "close_price = [sublist[4] for sublist in data['dataset']['data']]"
      ],
      "execution_count": 0,
      "outputs": []
    },
    {
      "cell_type": "code",
      "metadata": {
        "id": "Ckp57hPVuHt_",
        "colab_type": "code",
        "colab": {
          "base_uri": "https://localhost:8080/",
          "height": 35
        },
        "outputId": "7d6c6322-9c97-4471-9291-7a17c96bb3aa"
      },
      "source": [
        "#calculate the largest change between any two days, and get the max\n",
        "change = [round(abs(close_price[n] - close_price[n-1]), 2) for n in range(1, len(close_price))]\n",
        "\n",
        "print('The largest change between any two days is €%s' % max(change))"
      ],
      "execution_count": 16,
      "outputs": [
        {
          "output_type": "stream",
          "text": [
            "The largest change between any two days is €2.56\n"
          ],
          "name": "stdout"
        }
      ]
    },
    {
      "cell_type": "markdown",
      "metadata": {
        "id": "CtIC85uWuHuB",
        "colab_type": "text"
      },
      "source": [
        "#### 6. What was the average daily trading volume during this year?"
      ]
    },
    {
      "cell_type": "code",
      "metadata": {
        "id": "ZWkFtlQEuHuB",
        "colab_type": "code",
        "colab": {
          "base_uri": "https://localhost:8080/",
          "height": 35
        },
        "outputId": "398e3346-bc51-4a58-a671-366d2b9361fe"
      },
      "source": [
        "#get the index for the traded volume in the data\n",
        "print(data['dataset']['column_names'].index('Traded Volume'))"
      ],
      "execution_count": 17,
      "outputs": [
        {
          "output_type": "stream",
          "text": [
            "6\n"
          ],
          "name": "stdout"
        }
      ]
    },
    {
      "cell_type": "code",
      "metadata": {
        "id": "YlQR1HN2uHuD",
        "colab_type": "code",
        "colab": {}
      },
      "source": [
        "#extract trading volumes into lists\n",
        "trading_volume = [sublist[6] for sublist in data['dataset']['data']]"
      ],
      "execution_count": 0,
      "outputs": []
    },
    {
      "cell_type": "code",
      "metadata": {
        "id": "lEYlz1tCuHuF",
        "colab_type": "code",
        "colab": {
          "base_uri": "https://localhost:8080/",
          "height": 35
        },
        "outputId": "bd6ddc25-b73c-4cc4-c330-ac811810ce81"
      },
      "source": [
        "#caculate the average daily trading volume\n",
        "average = statistics.mean(trading_volume)\n",
        "\n",
        "print('The average daily trading volume is %s' % average)"
      ],
      "execution_count": 19,
      "outputs": [
        {
          "output_type": "stream",
          "text": [
            "The average daily trading volume is 89124.33725490196\n"
          ],
          "name": "stdout"
        }
      ]
    },
    {
      "cell_type": "markdown",
      "metadata": {
        "id": "k97k1CtEuHuH",
        "colab_type": "text"
      },
      "source": [
        "#### 7. (Optional) What was the median trading volume during this year. (Note: you may need to implement your own function for calculating the median.)"
      ]
    },
    {
      "cell_type": "code",
      "metadata": {
        "id": "dpEf1fdouHuI",
        "colab_type": "code",
        "colab": {
          "base_uri": "https://localhost:8080/",
          "height": 35
        },
        "outputId": "da90217e-48ec-4447-9151-0a2e31539a0e"
      },
      "source": [
        "#method 1: define a function to find median\n",
        "def median(numbers):\n",
        "    if len(numbers) % 2 == 0:\n",
        "        n = len(numbers)/2\n",
        "        return (sorted(numbers)[n-1] + sorted(numbers)[n])/2\n",
        "    else:\n",
        "        return sorted(numbers)[len(numbers) // 2]\n",
        "\n",
        "print('The median trading volume is %s' % median(trading_volume))"
      ],
      "execution_count": 20,
      "outputs": [
        {
          "output_type": "stream",
          "text": [
            "The median trading volume is 76286.0\n"
          ],
          "name": "stdout"
        }
      ]
    },
    {
      "cell_type": "code",
      "metadata": {
        "id": "CvppISp-uHuJ",
        "colab_type": "code",
        "colab": {
          "base_uri": "https://localhost:8080/",
          "height": 35
        },
        "outputId": "b8914a10-eb46-4d25-ece2-c900ff03780f"
      },
      "source": [
        "#method 2: using statistics module\n",
        "median = statistics.median(trading_volume)\n",
        "\n",
        "print('The median trading volume is %s' % median)"
      ],
      "execution_count": 21,
      "outputs": [
        {
          "output_type": "stream",
          "text": [
            "The median trading volume is 76286.0\n"
          ],
          "name": "stdout"
        }
      ]
    }
  ]
}